{
 "cells": [
  {
   "cell_type": "code",
   "execution_count": 1,
   "metadata": {},
   "outputs": [],
   "source": [
    "using Images"
   ]
  },
  {
   "cell_type": "markdown",
   "metadata": {},
   "source": [
    "Download the test images:"
   ]
  },
  {
   "cell_type": "code",
   "execution_count": 2,
   "metadata": {},
   "outputs": [
    {
     "name": "stderr",
     "output_type": "stream",
     "text": [
      "--2014-12-06 14:22:22--  http://cs.brown.edu/courses/cs019/2014/Assignments/Fluid-Images/belur-carving-s2.jpg\n",
      "Resolving cs.brown.edu (cs.brown.edu)... 128.148.32.12\n",
      "Connecting to cs.brown.edu (cs.brown.edu)|128.148.32.12|:80... connected.\n",
      "HTTP request sent, awaiting response... 200 OK\n",
      "Length: 11428 (11K) [image/jpeg]\n",
      "Saving to: ‘belur-carving-s2.jpg.5’\n",
      "\n",
      "     0K .......... .                                          100%  167K=0.07s\n",
      "\n",
      "2014-12-06 14:22:29 (167 KB/s) - ‘belur-carving-s2.jpg.5’ saved [11428/11428]\n",
      "\n",
      "--2014-12-06 14:22:29--  http://cs.brown.edu/courses/cs019/2014/Assignments/Fluid-Images/bangalore-dancers-s2.jpg\n",
      "Resolving cs.brown.edu (cs.brown.edu)... 128.148.32.12\n",
      "Connecting to cs.brown.edu (cs.brown.edu)|128.148.32.12|:80... connected.\n",
      "HTTP request sent, awaiting response... 200 OK\n",
      "Length: 13252 (13K) [image/jpeg]\n",
      "Saving to: ‘bangalore-dancers-s2.jpg.3’\n",
      "\n",
      "     0K .......... ..                                         100% 24.0K=0.5s\n",
      "\n",
      "2014-12-06 14:22:31 (24.0 KB/s) - ‘bangalore-dancers-s2.jpg.3’ saved [13252/13252]\n",
      "\n",
      "--2014-12-06 14:22:31--  http://cs.brown.edu/courses/cs019/2014/Assignments/Fluid-Images/british-museum-s2.jpg\n",
      "Resolving cs.brown.edu (cs.brown.edu)... 128.148.32.12\n",
      "Connecting to cs.brown.edu (cs.brown.edu)|128.148.32.12|:80... connected.\n",
      "HTTP request sent, awaiting response... 200 OK\n",
      "Length: 14728 (14K) [image/jpeg]\n",
      "Saving to: ‘british-museum-s2.jpg.3’\n",
      "\n",
      "     0K .......... ....                                       100% 14.8K=1.0s\n",
      "\n",
      "2014-12-06 14:22:34 (14.8 KB/s) - ‘british-museum-s2.jpg.3’ saved [14728/14728]\n",
      "\n"
     ]
    }
   ],
   "source": [
    "run(`wget http://cs.brown.edu/courses/cs019/2014/Assignments/Fluid-Images/belur-carving-s2.jpg`)\n",
    "run(`wget http://cs.brown.edu/courses/cs019/2014/Assignments/Fluid-Images/bangalore-dancers-s2.jpg`)\n",
    "run(`wget http://cs.brown.edu/courses/cs019/2014/Assignments/Fluid-Images/british-museum-s2.jpg`)"
   ]
  },
  {
   "cell_type": "markdown",
   "metadata": {},
   "source": [
    "What do they contain?"
   ]
  },
  {
   "cell_type": "code",
   "execution_count": 3,
   "metadata": {},
   "outputs": [
    {
     "data": {
      "text/html": [
       "<script charset=\"utf-8\">(function ($, undefined) {\n",
       "\n",
       "    function createElem(tag, attr, content) {\n",
       "\t// TODO: remove jQuery dependency\n",
       "\tvar el = $(\"<\" + tag + \"/>\").attr(attr);\n",
       "\tif (content) {\n",
       "\t    el.append(content);\n",
       "\t}\n",
       "\treturn el[0];\n",
       "    }\n",
       "\n",
       "    // A widget must expose an id field which identifies it to the backend,\n",
       "    // an elem attribute which is will be added to the DOM, and\n",
       "    // a getState() method which returns the value to be sent to the backend\n",
       "    // a sendUpdate() method which sends its current value to the backend\n",
       "    var Widget = {\n",
       "\tid: undefined,\n",
       "\telem: undefined,\n",
       "\tlabel: undefined,\n",
       "\tgetState: function () {\n",
       "\t    return this.elem.value;\n",
       "\t},\n",
       "\tsendUpdate: undefined\n",
       "    };\n",
       "\n",
       "    var Slider = function (typ, id, init) {\n",
       "\tvar attr = { type:  \"range\",\n",
       "\t\t     value: init.value,\n",
       "\t\t     min:   init.min,\n",
       "\t\t     max:   init.max,\n",
       "\t\t     step:  init.step },\n",
       "\t    elem = createElem(\"input\", attr),\n",
       "\t    self = this;\n",
       "\n",
       "\telem.onchange = function () {\n",
       "\t    self.sendUpdate();\n",
       "\t}\n",
       "\n",
       "\tthis.id = id;\n",
       "\tthis.elem = elem;\n",
       "\tthis.label = init.label;\n",
       "\n",
       "\tInputWidgets.commInitializer(this); // Initialize communication\n",
       "    }\n",
       "    Slider.prototype = Widget;\n",
       "\n",
       "    var Checkbox = function (typ, id, init) {\n",
       "\tvar attr = { type: \"checkbox\",\n",
       "\t\t     checked: init.value },\n",
       "\t    elem = createElem(\"input\", attr),\n",
       "\t    self = this;\n",
       "\n",
       "\tthis.getState = function () {\n",
       "\t    return elem.checked;\n",
       "\t}\n",
       "\telem.onchange = function () {\n",
       "\t    self.sendUpdate();\n",
       "\t}\n",
       "\n",
       "\tthis.id = id;\n",
       "\tthis.elem = elem;\n",
       "\tthis.label = init.label;\n",
       "\n",
       "\tInputWidgets.commInitializer(this);\n",
       "    }\n",
       "    Checkbox.prototype = Widget;\n",
       "\n",
       "    var Button = function (typ, id, init) {\n",
       "\tvar attr = { type:    \"button\",\n",
       "\t\t     value:   init.label },\n",
       "\t    elem = createElem(\"input\", attr),\n",
       "\t    self = this;\n",
       "\tthis.getState = function () {\n",
       "\t    return null;\n",
       "\t}\n",
       "\telem.onclick = function () {\n",
       "\t    self.sendUpdate();\n",
       "\t}\n",
       "\n",
       "\tthis.id = id;\n",
       "\tthis.elem = elem;\n",
       "\tthis.label = init.label;\n",
       "\n",
       "\tInputWidgets.commInitializer(this);\n",
       "    }\n",
       "    Button.prototype = Widget;\n",
       "\n",
       "    var Text = function (typ, id, init) {\n",
       "\tvar attr = { type:  \"text\",\n",
       "\t\t     placeholder: init.label,\n",
       "\t\t     value: init.value },\n",
       "\t    elem = createElem(\"input\", attr),\n",
       "\t    self = this;\n",
       "\tthis.getState = function () {\n",
       "\t    return elem.value;\n",
       "\t}\n",
       "\telem.onkeyup = function () {\n",
       "\t    self.sendUpdate();\n",
       "\t}\n",
       "\n",
       "\tthis.id = id;\n",
       "\tthis.elem = elem;\n",
       "\tthis.label = init.label;\n",
       "\n",
       "\tInputWidgets.commInitializer(this);\n",
       "    }\n",
       "    Text.prototype = Widget;\n",
       "\n",
       "    var Textarea = function (typ, id, init) {\n",
       "\tvar attr = { placeholder: init.label },\n",
       "\t    elem = createElem(\"textarea\", attr, init.value),\n",
       "\t    self = this;\n",
       "\tthis.getState = function () {\n",
       "\t    return elem.value;\n",
       "\t}\n",
       "\telem.onchange = function () {\n",
       "\t    self.sendUpdate();\n",
       "\t}\n",
       "\n",
       "\tthis.id = id;\n",
       "\tthis.elem = elem;\n",
       "\tthis.label = init.label;\n",
       "\n",
       "\tInputWidgets.commInitializer(this);\n",
       "    }\n",
       "    Textarea.prototype = Widget;\n",
       "\n",
       "    // RadioButtons\n",
       "    // Dropdown\n",
       "    // HTML\n",
       "    // Latex\n",
       "\n",
       "    var InputWidgets = {\n",
       "\tSlider: Slider,\n",
       "\tCheckbox: Checkbox,\n",
       "\tButton: Button,\n",
       "\tText: Text,\n",
       "\tTextarea: Textarea,\n",
       "\tdebug: false,\n",
       "\tlog: function () {\n",
       "\t    if (InputWidgets.debug) {\n",
       "\t\tconsole.log.apply(console, arguments);\n",
       "\t    }\n",
       "\t},\n",
       "\t// a central way to initalize communication\n",
       "\t// for widgets.\n",
       "\tcommInitializer: function (widget) {\n",
       "\t    widget.sendUpdate = function () {};\n",
       "\t}\n",
       "    };\n",
       "\n",
       "    window.InputWidgets = InputWidgets;\n",
       "\n",
       "})(jQuery, undefined);\n",
       "</script>"
      ]
     },
     "metadata": {},
     "output_type": "display_data"
    },
    {
     "data": {
      "text/html": [
       "<script charset=\"utf-8\">(function (IPython, $, _, MathJax, Widgets) {\n",
       "    $.event.special.destroyed = {\n",
       "\tremove: function(o) {\n",
       "\t    if (o.handler) {\n",
       "\t\to.handler.apply(this, arguments)\n",
       "\t    }\n",
       "\t}\n",
       "    }\n",
       "\n",
       "    var redrawValue = function (container, type, val) {\n",
       "\tvar selector = $(\"<div/>\");\n",
       "\tvar oa = new IPython.OutputArea(_.extend(selector, {\n",
       "\t    selector: selector,\n",
       "\t    prompt_area: true,\n",
       "\t    events: IPython.events,\n",
       "\t    keyboard_manager: IPython.keyboard_manager\n",
       "\t})); // Hack to work with IPython 2.1.0\n",
       "\n",
       "\tswitch (type) {\n",
       "\tcase \"image/png\":\n",
       "            var _src = 'data:' + type + ';base64,' + val;\n",
       "\t    $(container).find(\"img\").attr('src', _src);\n",
       "\t    break;\n",
       "\tdefault:\n",
       "\t    var toinsert = IPython.OutputArea.append_map[type].apply(\n",
       "\t\toa, [val, {}, selector]\n",
       "\t    );\n",
       "\t    $(container).empty().append(toinsert.contents());\n",
       "\t    selector.remove();\n",
       "\t}\n",
       "\tif (type === \"text/latex\" && MathJax) {\n",
       "\t    MathJax.Hub.Queue([\"Typeset\", MathJax.Hub, toinsert.get(0)]);\n",
       "\t}\n",
       "    }\n",
       "\n",
       "\n",
       "    $(document).ready(function() {\n",
       "\tWidgets.debug = false; // log messages etc in console.\n",
       "\tfunction initComm(evt, data) {\n",
       "\t    var comm_manager = data.kernel.comm_manager;\n",
       "\t    comm_manager.register_target(\"Signal\", function (comm) {\n",
       "\t\tcomm.on_msg(function (msg) {\n",
       "\t\t    //Widgets.log(\"message received\", msg);\n",
       "\t\t    var val = msg.content.data.value;\n",
       "\t\t    $(\".signal-\" + comm.comm_id).each(function() {\n",
       "\t\t\tvar type = $(this).data(\"type\");\n",
       "\t\t\tif (val[type]) {\n",
       "\t\t\t    redrawValue(this, type, val[type], type);\n",
       "\t\t\t}\n",
       "\t\t    });\n",
       "\t\t    delete val;\n",
       "\t\t    delete msg.content.data.value;\n",
       "\t\t});\n",
       "\t    });\n",
       "\n",
       "\t    // coordingate with Comm and redraw Signals\n",
       "\t    // XXX: Test using Reactive here to improve performance\n",
       "\t    $([IPython.events]).on(\n",
       "\t\t'output_appended.OutputArea', function (event, type, value, md, toinsert) {\n",
       "\t\t    if (md && md.reactive) {\n",
       "\t\t\t// console.log(md.comm_id);\n",
       "\t\t\ttoinsert.addClass(\"signal-\" + md.comm_id);\n",
       "\t\t\ttoinsert.data(\"type\", type);\n",
       "\t\t\t// Signal back indicating the mimetype required\n",
       "\t\t\tvar comm_manager = IPython.notebook.kernel.comm_manager;\n",
       "\t\t\tvar comm = comm_manager.comms[md.comm_id];\n",
       "\t\t\tcomm.send({action: \"subscribe_mime\",\n",
       "\t\t\t\t   mime: type});\n",
       "\t\t\ttoinsert.bind(\"destroyed\", function() {\n",
       "\t\t\t    comm.send({action: \"unsubscribe_mime\",\n",
       "\t\t\t\t       mime: type});\n",
       "\t\t\t});\n",
       "\t\t    }\n",
       "\t    });\n",
       "\n",
       "\t    // Set up communication for Widgets\n",
       "\t    Widgets.commInitializer = function (widget) {\n",
       "\t\tvar comm = comm_manager.new_comm(\n",
       "\t\t    \"InputWidget\", {widget_id: widget.id}\n",
       "\t\t);\n",
       "\t\twidget.sendUpdate = function () {\n",
       "\t\t    // `this` is a widget here.\n",
       "\t\t    // TODO: I have a feeling there's some\n",
       "\t\t    //       IPython bookkeeping to be done here.\n",
       "\t\t    // Widgets.log(\"State changed\", this, this.getState());\n",
       "\t\t    comm.send({value: this.getState()});\n",
       "\t\t}\n",
       "\t    };\n",
       "\t}\n",
       "\n",
       "\ttry {\n",
       "\t    // try to initialize right away. otherwise, wait on the status_started event.\n",
       "\t    initComm(undefined, IPython.notebook);\n",
       "\t} catch (e) {\n",
       "\t    $([IPython.events]).on('status_started.Kernel', initComm);\n",
       "\t}\n",
       "    });\n",
       "})(IPython, jQuery, _, MathJax, InputWidgets);\n",
       "</script>"
      ]
     },
     "metadata": {},
     "output_type": "display_data"
    },
    {
     "data": {
      "text/html": [],
      "text/plain": [
       "Options{:ToggleButtons,ASCIIString}([Input{ASCIIString}] belur-carving-s2.jpg,\"file\",\"belur-carving-s2.jpg\",\"belur-carving-s2.jpg\",[\"belur-carving-s2.jpg\"=>\"belur-carving-s2.jpg\",\"bangalore-dancers-s2.jpg\"=>\"bangalore-dancers-s2.jpg\",\"british-museum-s2.jpg\"=>\"british-museum-s2.jpg\"])"
      ]
     },
     "metadata": {},
     "output_type": "display_data"
    },
    {
     "data": {
      "image/png": "[encoded data removed]",
      "text/plain": [
       "RGB Image with:\n",
       "  data: 100x75 Array{RGB{UfixedBase{Uint8,8}},2}\n",
       "  properties:\n",
       "    IMcs: sRGB\n",
       "    spatialorder:  x y\n",
       "    pixelspacing:  1 1"
      ]
     },
     "execution_count": 3,
     "metadata": {
      "comm_id": "dd5abf44-3dfe-46cc-ab98-5668d9cc900e",
      "reactive": true
     },
     "output_type": "execute_result"
    }
   ],
   "source": [
    "using Interact\n",
    "\n",
    "filenames = [\"belur-carving-s2.jpg\", \"bangalore-dancers-s2.jpg\", \"british-museum-s2.jpg\"]\n",
    "@manipulate for file in filenames\n",
    "    imread(file)\n",
    "end"
   ]
  },
  {
   "cell_type": "code",
   "execution_count": 4,
   "metadata": {},
   "outputs": [
    {
     "data": {
      "text/plain": [
       "(100,75)"
      ]
     },
     "execution_count": 4,
     "metadata": {},
     "output_type": "execute_result"
    }
   ],
   "source": [
    "size(imread(\"belur-carving-s2.jpg\")) # small enough?"
   ]
  },
  {
   "cell_type": "markdown",
   "metadata": {},
   "source": [
    "Code for calculating pixel properties"
   ]
  },
  {
   "cell_type": "code",
   "execution_count": 5,
   "metadata": {},
   "outputs": [
    {
     "data": {
      "text/plain": [
       "energy (generic function with 1 method)"
      ]
     },
     "execution_count": 5,
     "metadata": {},
     "output_type": "execute_result"
    }
   ],
   "source": [
    "brightness(color) = color.r + color.g + color.b\n",
    "\n",
    "function getvalue(img, i, j)\n",
    "    w, h = size(img)\n",
    "    if i < 1 || j < 1 || i > w || j > h\n",
    "        return 0.0f0\n",
    "    end\n",
    "    return brightness(img[i, j])\n",
    "end\n",
    "\n",
    "function energy(img, i, j)\n",
    "    # A B C\n",
    "    # D E F\n",
    "    # G H I\n",
    "    w, h = size(img)\n",
    "    a, d, g, b, e, h, c, f, i = [getvalue(img, x, y) for x=i-1:i+1, y=j-1:j+1]\n",
    "    xenergy=a + 2d + g - c - 2f - i\n",
    "    yenergy=a + 2b + c - g - 2h - i\n",
    "    √((xenergy^2) + (yenergy^2))\n",
    "end"
   ]
  },
  {
   "cell_type": "markdown",
   "metadata": {},
   "source": [
    "A type for representing a map of min-seam direction"
   ]
  },
  {
   "cell_type": "code",
   "execution_count": 6,
   "metadata": {},
   "outputs": [],
   "source": [
    "immutable Next\n",
    "    direction::Int8\n",
    "    energy::Float32\n",
    "end # Next takes 8+32=40 contigious bytes"
   ]
  },
  {
   "cell_type": "markdown",
   "metadata": {},
   "source": [
    "`markminpaths` marks the seams from a given x, y coordinate"
   ]
  },
  {
   "cell_type": "code",
   "execution_count": 7,
   "metadata": {},
   "outputs": [
    {
     "data": {
      "text/plain": [
       "mapseams (generic function with 1 method)"
      ]
     },
     "execution_count": 7,
     "metadata": {},
     "output_type": "execute_result"
    }
   ],
   "source": [
    "function mapseams!(img, mem, x, y=1)\n",
    "    # virtical seam starting with (x, y)\n",
    "\n",
    "    w, h = size(img)\n",
    "    if x > w || x < 1\n",
    "        return Next(3, Inf)\n",
    "    end\n",
    "    if y > h || y < 1\n",
    "        return Next(3, 0.0f0)\n",
    "    end\n",
    "    if mem[x, y].direction != 2\n",
    "        return mem[x, y]\n",
    "    end\n",
    "\n",
    "    next = mapseams!(img, mem, x-1, y+1)\n",
    "    E = next.energy\n",
    "    next_dir = -1\n",
    "    for i in [x, x+1] # two more paths to explore\n",
    "        tmp = mapseams!(img, mem, i, y+1)\n",
    "        if tmp.energy < E\n",
    "            E = tmp.energy\n",
    "            next_dir = i-x\n",
    "        end\n",
    "    end\n",
    "    res = Next(next_dir, E + energy(img, x, y))\n",
    "    mem[x, y] = res\n",
    "    return res\n",
    "end\n",
    "\n",
    "function mapseams(img)\n",
    "    w, h = size(img)\n",
    "    m = fill(Next(2, 0.0f0), (w, h))\n",
    "    for i=1:w\n",
    "        mapseams!(img, m, i, 1) # mark all min-seams\n",
    "    end\n",
    "    m\n",
    "end"
   ]
  },
  {
   "cell_type": "markdown",
   "metadata": {},
   "source": [
    "given a matrix of Next values, figure out a seam starting at (x, 1)"
   ]
  },
  {
   "cell_type": "code",
   "execution_count": 8,
   "metadata": {},
   "outputs": [
    {
     "data": {
      "text/plain": [
       "get_seam (generic function with 1 method)"
      ]
     },
     "execution_count": 8,
     "metadata": {},
     "output_type": "execute_result"
    }
   ],
   "source": [
    "function get_seam(seammap, x)\n",
    "    w, h = size(seammap)\n",
    "\n",
    "    path = Array(Int, h)\n",
    "    for y = 1:h\n",
    "        path[y] = x\n",
    "        x += seammap[x, y].direction\n",
    "    end\n",
    "    path\n",
    "end"
   ]
  },
  {
   "cell_type": "code",
   "execution_count": 9,
   "metadata": {},
   "outputs": [
    {
     "data": {
      "text/plain": [
       "markseam (generic function with 2 methods)"
      ]
     },
     "execution_count": 9,
     "metadata": {},
     "output_type": "execute_result"
    }
   ],
   "source": [
    "using Color\n",
    "\n",
    "# For inspection, mark a seam\n",
    "\n",
    "function markseam(img, seam, color=RGB(1,0,0))\n",
    "    img′ = copy(img)\n",
    "    w, h = size(img)\n",
    "    for j=1:length(seam)\n",
    "        img′[seam[j], j]=color\n",
    "    end\n",
    "    img′\n",
    "end"
   ]
  },
  {
   "cell_type": "code",
   "execution_count": 10,
   "metadata": {},
   "outputs": [
    {
     "data": {
      "text/html": [],
      "text/plain": [
       "Slider{Int64}([Input{Int64}] 50,\"i\",50,1:100)"
      ]
     },
     "metadata": {},
     "output_type": "display_data"
    },
    {
     "data": {
      "image/png": "[encoded data removed]",
      "text/plain": [
       "RGB Image with:\n",
       "  data: 100x75 Array{RGB{UfixedBase{Uint8,8}},2}\n",
       "  properties:\n",
       "    IMcs: sRGB\n",
       "    spatialorder:  x y\n",
       "    pixelspacing:  1 1"
      ]
     },
     "execution_count": 10,
     "metadata": {
      "comm_id": "0e4f9764-c5ad-43fb-a4f5-882b03441ba7",
      "reactive": true
     },
     "output_type": "execute_result"
    }
   ],
   "source": [
    "test_img = imread(\"bangalore-dancers-s2.jpg\")\n",
    "@manipulate for i=1:width(test_img)\n",
    "    markseam(test_img, get_seam(mapseams(test_img), i))\n",
    "end"
   ]
  },
  {
   "cell_type": "code",
   "execution_count": 11,
   "metadata": {},
   "outputs": [
    {
     "data": {
      "text/plain": [
       "minseam (generic function with 1 method)"
      ]
     },
     "execution_count": 11,
     "metadata": {},
     "output_type": "execute_result"
    }
   ],
   "source": [
    "# get the min-seam\n",
    "function minseam(seammap)\n",
    "    _, idx = findmin([pos.energy for pos in seammap[:, 1]])\n",
    "    get_seam(seammap, idx)\n",
    "end"
   ]
  },
  {
   "cell_type": "code",
   "execution_count": 14,
   "metadata": {},
   "outputs": [
    {
     "data": {
      "text/plain": [
       "carve (generic function with 1 method)"
      ]
     },
     "execution_count": 14,
     "metadata": {},
     "output_type": "execute_result"
    }
   ],
   "source": [
    "function carve(img, seam) # Carve out a seam\n",
    "    w, h = size(img)\n",
    "    img′ = fill(RGB(0.0f0, 0.0f0, 0.0f0), w-1, h)\n",
    "\n",
    "    for y=1:h\n",
    "        i=1\n",
    "        for x=1:w\n",
    "            if seam[y] == x\n",
    "            else\n",
    "                img′[i, y] = img[x, y]\n",
    "                i += 1\n",
    "            end\n",
    "        end\n",
    "    end\n",
    "    Image(img′, [\"spatialorder\" => [\"x\", \"y\"]]) # same spatial ordering as the original\n",
    "end"
   ]
  },
  {
   "cell_type": "code",
   "execution_count": 15,
   "metadata": {},
   "outputs": [
    {
     "data": {
      "image/png": "[encoded data removed]",
      "text/plain": [
       "RGB Image with:\n",
       "  data: 99x75 Array{RGB{Float32},2}\n",
       "  properties:\n",
       "    spatialorder:  x y"
      ]
     },
     "execution_count": 15,
     "metadata": {},
     "output_type": "execute_result"
    }
   ],
   "source": [
    "img1 = carve(test_img, minseam(mapseams(test_img)))"
   ]
  },
  {
   "cell_type": "code",
   "execution_count": 16,
   "metadata": {},
   "outputs": [
    {
     "data": {
      "text/plain": [
       "(99,75)"
      ]
     },
     "execution_count": 16,
     "metadata": {},
     "output_type": "execute_result"
    }
   ],
   "source": [
    "size(img1)"
   ]
  },
  {
   "cell_type": "markdown",
   "metadata": {},
   "source": [
    "Woot! That seems to have worked. But does it really? How does it look while it's at it?"
   ]
  },
  {
   "cell_type": "code",
   "execution_count": 17,
   "metadata": {},
   "outputs": [
    {
     "data": {
      "text/plain": [
       "writemime (generic function with 27 methods)"
      ]
     },
     "execution_count": 17,
     "metadata": {},
     "output_type": "execute_result"
    }
   ],
   "source": [
    "# IJulia's image widget assumes width does not change, so we will\n",
    "# define a type and our own way of showing the image.\n",
    "immutable ImgFrame\n",
    "    img::Image\n",
    "end\n",
    "\n",
    "Base.writemime(io::IO, m::MIME\"text/html\", frame::ImgFrame) = \n",
    "write(io, \"\"\"<img src=\"data:image/png;base64,$(stringmime(MIME(\"image/png\"), frame.img))\"/>\"\"\")"
   ]
  },
  {
   "cell_type": "code",
   "execution_count": 21,
   "metadata": {},
   "outputs": [
    {
     "data": {
      "text/html": [],
      "text/plain": [
       "Slider{Int64}([Input{Int64}] 49,\"n\",49,0:99)"
      ]
     },
     "metadata": {},
     "output_type": "display_data"
    },
    {
     "data": {
      "text/html": [],
      "text/plain": [
       "Checkbox([Input{Bool}] true,\"show_next\",true)"
      ]
     },
     "metadata": {},
     "output_type": "display_data"
    },
    {
     "data": {
      "text/html": [],
      "text/plain": [
       "Options{:ToggleButtons,ASCIIString}([Input{ASCIIString}] belur-carving-s2.jpg,\"file\",\"belur-carving-s2.jpg\",\"belur-carving-s2.jpg\",[\"belur-carving-s2.jpg\"=>\"belur-carving-s2.jpg\",\"bangalore-dancers-s2.jpg\"=>\"bangalore-dancers-s2.jpg\",\"british-museum-s2.jpg\"=>\"british-museum-s2.jpg\"])"
      ]
     },
     "metadata": {},
     "output_type": "display_data"
    },
    {
     "data": {
      "text/html": [
       "<img src=\"data:image/png;base64,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\"/>"
      ],
      "text/plain": [
       "ImgFrame(RGB Image with:\n",
       "  data: 51x75 Array{RGB{Float32},2}\n",
       "  properties:\n",
       "    spatialorder:  x y)"
      ]
     },
     "execution_count": 21,
     "metadata": {
      "comm_id": "10ed82be-a19a-4366-98a0-2c3dc5065618",
      "reactive": true
     },
     "output_type": "execute_result"
    }
   ],
   "source": [
    "@manipulate for n=0:99, show_next=true, file in filenames\n",
    "    img = imread(file)\n",
    "    for i=1:n\n",
    "        img = carve(img, minseam(mapseams(img)))\n",
    "    end\n",
    "    ImgFrame(show_next ? markseam(img, minseam(mapseams(img))) : img)\n",
    "end"
   ]
  },
  {
   "cell_type": "code",
   "execution_count": null,
   "metadata": {},
   "outputs": [],
   "source": []
  }
 ],
 "metadata": {
  "kernelspec": {
   "display_name": "Julia 0.6.2",
   "language": "julia",
   "name": "julia-0.6"
  },
  "language_info": {
   "file_extension": ".jl",
   "mimetype": "application/julia",
   "name": "julia",
   "version": "0.6.2"
  }
 },
 "nbformat": 4,
 "nbformat_minor": 1
}
